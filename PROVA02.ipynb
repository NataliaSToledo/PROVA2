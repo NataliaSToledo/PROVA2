{
 "cells": [
  {
   "cell_type": "code",
   "execution_count": 1,
   "id": "db0f45a1-4cfa-46a9-87da-1182ec1d2bc1",
   "metadata": {},
   "outputs": [
    {
     "name": "stdout",
     "output_type": "stream",
     "text": [
      "Lista original: [29, 10, 14, 37, 13]\n",
      "Lista ordenada: [10, 13, 14, 29, 37]\n",
      "Maior elemento da lista ordenada: 37\n"
     ]
    }
   ],
   "source": [
    "def selection_sort(arr):\n",
    "    for i in range(len(arr)):  \n",
    "        min_idx = i  \n",
    "        for j in range(i + 1, len(arr)): \n",
    "            if arr[j] < arr[min_idx]:\n",
    "                min_idx = j\n",
    "        arr[i], arr[min_idx] = arr[min_idx], arr[i]\n",
    "    return arr\n",
    "def find_max(arr):  \n",
    "    return arr[-1]\n",
    "lista = [29, 10, 14, 37, 13]\n",
    "print(\"Lista original:\", lista)\n",
    "ordenada = selection_sort(lista)\n",
    "print(\"Lista ordenada:\", ordenada)\n",
    "maior_elemento = find_max(ordenada)\n",
    "print(\"Maior elemento da lista ordenada:\", maior_elemento)\n",
    "\n",
    "\n",
    "      "
   ]
  },
  {
   "cell_type": "code",
   "execution_count": 2,
   "id": "2d1a4e66-f4bd-445a-9fc6-6f0b598a7fd8",
   "metadata": {},
   "outputs": [
    {
     "name": "stdout",
     "output_type": "stream",
     "text": [
      "Lista original: [29, 10, 14, 37, 13]\n",
      "Lista ordenada: [10, 13, 14, 29, 37]\n",
      "Maior elemento da lista ordenada: 37\n"
     ]
    }
   ],
   "source": [
    "def selection_sort(arr):\n",
    "    for i in range(len(arr)):  \n",
    "        min_idx = i  \n",
    "        for j in range(i + 1, len(arr)): \n",
    "            if arr[j] < arr[min_idx]:\n",
    "                min_idx = j\n",
    "        arr[i], arr[min_idx] = arr[min_idx], arr[i]\n",
    "    return arr\n",
    "def find_max(arr):  \n",
    "    return arr[-1]\n",
    "lista = [29, 10, 14, 37, 13]\n",
    "print(\"Lista original:\", lista)\n",
    "ordenada = selection_sort(lista)\n",
    "print(\"Lista ordenada:\", ordenada)\n",
    "maior_elemento = find_max(ordenada)\n",
    "print(\"Maior elemento da lista ordenada:\", maior_elemento)"
   ]
  },
  {
   "cell_type": "code",
   "execution_count": null,
   "id": "01a70d44-a184-45e0-97e4-4e4042bb6abc",
   "metadata": {},
   "outputs": [],
   "source": []
  }
 ],
 "metadata": {
  "kernelspec": {
   "display_name": "Python 3 (ipykernel)",
   "language": "python",
   "name": "python3"
  },
  "language_info": {
   "codemirror_mode": {
    "name": "ipython",
    "version": 3
   },
   "file_extension": ".py",
   "mimetype": "text/x-python",
   "name": "python",
   "nbconvert_exporter": "python",
   "pygments_lexer": "ipython3",
   "version": "3.12.4"
  }
 },
 "nbformat": 4,
 "nbformat_minor": 5
}
